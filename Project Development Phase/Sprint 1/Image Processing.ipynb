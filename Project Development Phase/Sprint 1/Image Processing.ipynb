{
 "cells": [
  {
   "cell_type": "markdown",
   "id": "3fe5d0e5",
   "metadata": {},
   "source": [
    "# Image Processing"
   ]
  },
  {
   "cell_type": "markdown",
   "id": "31cca767",
   "metadata": {},
   "source": [
    "Training Set"
   ]
  },
  {
   "cell_type": "code",
   "execution_count": 23,
   "id": "4ce5bedf",
   "metadata": {},
   "outputs": [
    {
     "name": "stdout",
     "output_type": "stream",
     "text": [
      "Found 15750 images belonging to 9 classes.\n"
     ]
    }
   ],
   "source": [
    "from keras.preprocessing.image import ImageDataGenerator\n",
    "train_datagen = ImageDataGenerator(rescale = 1./255 , shear_range=0.2,\n",
    "zoom_range=0.2,horizontal_flip=True)\n",
    "test_datagen = ImageDataGenerator(rescale = 1./255)\n",
    "x_train =train_datagen.flow_from_directory('../../../data collection/conversation engine for deaf and dumb/Dataset/training_set',\n",
    "                                           target_size=(64,64),batch_size=300, class_mode='categorical',color_mode='grayscale')\n"
   ]
  },
  {
   "cell_type": "markdown",
   "id": "68c2d087",
   "metadata": {},
   "source": [
    "Test Set"
   ]
  },
  {
   "cell_type": "code",
   "execution_count": 24,
   "id": "e914c780",
   "metadata": {},
   "outputs": [
    {
     "name": "stdout",
     "output_type": "stream",
     "text": [
      "Found 2250 images belonging to 9 classes.\n"
     ]
    }
   ],
   "source": [
    "x_test =test_datagen.flow_from_directory('../../../data collection/conversation engine for deaf and dumb/Dataset/test_set',\n",
    "                                         target_size=(64,64),batch_size=300, class_mode='categorical', color_mode='grayscale')\n"
   ]
  }
 ],
 "metadata": {
  "kernelspec": {
   "display_name": "Python 3 (ipykernel)",
   "language": "python",
   "name": "python3"
  },
  "language_info": {
   "codemirror_mode": {
    "name": "ipython",
    "version": 3
   },
   "file_extension": ".py",
   "mimetype": "text/x-python",
   "name": "python",
   "nbconvert_exporter": "python",
   "pygments_lexer": "ipython3",
   "version": "3.10.7"
  }
 },
 "nbformat": 4,
 "nbformat_minor": 5
}
