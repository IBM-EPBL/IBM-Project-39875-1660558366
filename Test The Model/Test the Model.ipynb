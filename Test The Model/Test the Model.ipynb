{
 "cells": [
  {
   "cell_type": "markdown",
   "id": "56e8420b",
   "metadata": {},
   "source": [
    "# Test the Model"
   ]
  },
  {
   "cell_type": "code",
   "execution_count": 95,
   "id": "1a952cee",
   "metadata": {},
   "outputs": [],
   "source": [
    "from tensorflow.keras.models import Sequential\n",
    "from tensorflow.keras.layers import Dense, Conv2D, Flatten, Dropout, MaxPooling2D\n",
    "from tensorflow.keras.preprocessing.image import ImageDataGenerator\n",
    "import numpy as np\n",
    "import matplotlib.pyplot as plt\n",
    "import cv2\n",
    "import unzip\n"
   ]
  },
  {
   "cell_type": "markdown",
   "id": "25c77452",
   "metadata": {},
   "source": [
    "DATA  AUGMENTATION"
   ]
  },
  {
   "cell_type": "code",
   "execution_count": 17,
   "id": "1703ef84",
   "metadata": {},
   "outputs": [],
   "source": [
    "from keras.preprocessing.image import ImageDataGenerator\n",
    "train_datagen=ImageDataGenerator(rescale = 1./255, shear_range=0.2, zoom_range=0.2,horizontal_flip=True,vertical_flip=False)\n",
    "test_datagen = ImageDataGenerator(rescale=1./255)"
   ]
  },
  {
   "cell_type": "markdown",
   "id": "cf4fe53c",
   "metadata": {},
   "source": [
    "training_set"
   ]
  },
  {
   "cell_type": "code",
   "execution_count": 23,
   "id": "88d04ec8",
   "metadata": {},
   "outputs": [
    {
     "name": "stdout",
     "output_type": "stream",
     "text": [
      "Found 15750 images belonging to 9 classes.\n"
     ]
    }
   ],
   "source": [
    "x_train=train_datagen.flow_from_directory('../../../data collection/conversation engine for deaf and dumb/Dataset/training_set',\n",
    "                                          target_size=(64,64),batch_size=100,class_mode='categorical', color_mode =\"grayscale\")"
   ]
  },
  {
   "cell_type": "markdown",
   "id": "02ca7f0d",
   "metadata": {},
   "source": [
    "test_set"
   ]
  },
  {
   "cell_type": "code",
   "execution_count": 24,
   "id": "07b7cf48",
   "metadata": {},
   "outputs": [
    {
     "name": "stdout",
     "output_type": "stream",
     "text": [
      "Found 2250 images belonging to 9 classes.\n"
     ]
    }
   ],
   "source": [
    "x_test = test_datagen.flow_from_directory(\"../../../data collection/conversation engine for deaf and dumb/Dataset/test_set\", \n",
    "                                          target_size=(64,64),batch_size=100,class_mode='categorical', color_mode =\"grayscale\")"
   ]
  },
  {
   "cell_type": "markdown",
   "id": "3f995ce3",
   "metadata": {},
   "source": [
    "Train"
   ]
  },
  {
   "cell_type": "code",
   "execution_count": 25,
   "id": "6dd15caf",
   "metadata": {},
   "outputs": [
    {
     "data": {
      "text/plain": [
       "158"
      ]
     },
     "execution_count": 25,
     "metadata": {},
     "output_type": "execute_result"
    }
   ],
   "source": [
    "len(x_train)"
   ]
  },
  {
   "cell_type": "markdown",
   "id": "bb1f4970",
   "metadata": {},
   "source": [
    "Test"
   ]
  },
  {
   "cell_type": "code",
   "execution_count": 26,
   "id": "e5feb684",
   "metadata": {},
   "outputs": [
    {
     "data": {
      "text/plain": [
       "23"
      ]
     },
     "execution_count": 26,
     "metadata": {},
     "output_type": "execute_result"
    }
   ],
   "source": [
    "len(x_test)"
   ]
  },
  {
   "cell_type": "markdown",
   "id": "f5383bbd",
   "metadata": {},
   "source": [
    "Train class"
   ]
  },
  {
   "cell_type": "code",
   "execution_count": 27,
   "id": "aa6054d7",
   "metadata": {},
   "outputs": [
    {
     "data": {
      "text/plain": [
       "{'A': 0, 'B': 1, 'C': 2, 'D': 3, 'E': 4, 'F': 5, 'G': 6, 'H': 7, 'I': 8}"
      ]
     },
     "execution_count": 27,
     "metadata": {},
     "output_type": "execute_result"
    }
   ],
   "source": [
    "x_train.class_indices"
   ]
  },
  {
   "cell_type": "markdown",
   "id": "b2fb51d7",
   "metadata": {},
   "source": [
    "Import Libraries"
   ]
  },
  {
   "cell_type": "code",
   "execution_count": 28,
   "id": "dccaa812",
   "metadata": {},
   "outputs": [],
   "source": [
    "from keras.models import Sequential\n",
    "from keras.layers import Dense\n",
    "from keras.layers import Convolution2D\n",
    "from tensorflow.keras.layers import Conv2D, MaxPooling2D\n",
    "from keras.layers import Dropout\n",
    "from keras.layers import Flatten"
   ]
  },
  {
   "cell_type": "markdown",
   "id": "74ef8b1e",
   "metadata": {},
   "source": [
    "#Creating the model"
   ]
  },
  {
   "cell_type": "code",
   "execution_count": 29,
   "id": "dc5d11e8",
   "metadata": {},
   "outputs": [],
   "source": [
    "model=Sequential()"
   ]
  },
  {
   "cell_type": "markdown",
   "id": "8fdb4cea",
   "metadata": {},
   "source": [
    "Adding Convolution Layer"
   ]
  },
  {
   "cell_type": "code",
   "execution_count": 30,
   "id": "6e733b92",
   "metadata": {},
   "outputs": [],
   "source": [
    "model.add(Convolution2D(32,(3,3), input_shape=(64,64,1), activation = 'relu'))"
   ]
  },
  {
   "cell_type": "markdown",
   "id": "07531a2e",
   "metadata": {},
   "source": [
    "Adding Pooling Layer"
   ]
  },
  {
   "cell_type": "code",
   "execution_count": 31,
   "id": "7d444f83",
   "metadata": {},
   "outputs": [],
   "source": [
    "model.add(MaxPooling2D(pool_size=(2,2)))"
   ]
  },
  {
   "cell_type": "markdown",
   "id": "0342d55e",
   "metadata": {},
   "source": [
    "Adding Flatten Layer"
   ]
  },
  {
   "cell_type": "code",
   "execution_count": 32,
   "id": "ca68fd53",
   "metadata": {},
   "outputs": [],
   "source": [
    "model.add(Flatten())"
   ]
  },
  {
   "cell_type": "markdown",
   "id": "c55f83bf",
   "metadata": {},
   "source": [
    "Adding Dense Layer"
   ]
  },
  {
   "cell_type": "code",
   "execution_count": 33,
   "id": "7c37505a",
   "metadata": {},
   "outputs": [],
   "source": [
    "model.add(Dense(300,activation='relu'))\n",
    "model.add(Dense(512,activation='relu'))"
   ]
  },
  {
   "cell_type": "markdown",
   "id": "97e24375",
   "metadata": {},
   "source": [
    "Adding Output Layer"
   ]
  },
  {
   "cell_type": "code",
   "execution_count": 34,
   "id": "81143239",
   "metadata": {},
   "outputs": [],
   "source": [
    "model.add(Dense(9, activation='softmax'))"
   ]
  },
  {
   "cell_type": "markdown",
   "id": "6109c85a",
   "metadata": {},
   "source": [
    "Compile the Model"
   ]
  },
  {
   "cell_type": "code",
   "execution_count": 36,
   "id": "8c330acb",
   "metadata": {},
   "outputs": [],
   "source": [
    "model.compile(loss='categorical_crossentropy',optimizer='adam',metrics=['accuracy'])"
   ]
  },
  {
   "cell_type": "markdown",
   "id": "22e7cf9b",
   "metadata": {},
   "source": [
    "Fit and Save model"
   ]
  },
  {
   "cell_type": "code",
   "execution_count": 37,
   "id": "3697920e",
   "metadata": {},
   "outputs": [
    {
     "name": "stderr",
     "output_type": "stream",
     "text": [
      "C:\\Users\\DHIWICSHEN\\AppData\\Local\\Temp\\ipykernel_10748\\43643550.py:1: UserWarning: `Model.fit_generator` is deprecated and will be removed in a future version. Please use `Model.fit`, which supports generators.\n",
      "  model.fit_generator(x_train, steps_per_epoch=30, epochs=10, validation_data=x_test,validation_steps=50)\n"
     ]
    },
    {
     "name": "stdout",
     "output_type": "stream",
     "text": [
      "Epoch 1/10\n",
      "30/30 [==============================] - ETA: 0s - loss: 0.8658 - accuracy: 0.6820WARNING:tensorflow:Your input ran out of data; interrupting training. Make sure that your dataset or generator can generate at least `steps_per_epoch * epochs` batches (in this case, 50 batches). You may need to use the repeat() function when building your dataset.\n",
      "30/30 [==============================] - 54s 2s/step - loss: 0.8658 - accuracy: 0.6820 - val_loss: 0.3993 - val_accuracy: 0.8720\n",
      "Epoch 2/10\n",
      "30/30 [==============================] - 28s 934ms/step - loss: 0.2163 - accuracy: 0.9322\n",
      "Epoch 3/10\n",
      "30/30 [==============================] - 25s 838ms/step - loss: 0.1350 - accuracy: 0.9573\n",
      "Epoch 4/10\n",
      "30/30 [==============================] - 24s 797ms/step - loss: 0.0936 - accuracy: 0.9697\n",
      "Epoch 5/10\n",
      "30/30 [==============================] - 24s 779ms/step - loss: 0.0783 - accuracy: 0.9757\n",
      "Epoch 6/10\n",
      "30/30 [==============================] - 17s 562ms/step - loss: 0.0481 - accuracy: 0.9860\n",
      "Epoch 7/10\n",
      "30/30 [==============================] - 17s 583ms/step - loss: 0.0373 - accuracy: 0.9890\n",
      "Epoch 8/10\n",
      "30/30 [==============================] - 18s 592ms/step - loss: 0.0214 - accuracy: 0.9947\n",
      "Epoch 9/10\n",
      "30/30 [==============================] - 14s 479ms/step - loss: 0.0271 - accuracy: 0.9907\n",
      "Epoch 10/10\n",
      "30/30 [==============================] - 15s 500ms/step - loss: 0.0350 - accuracy: 0.9887\n"
     ]
    },
    {
     "data": {
      "text/plain": [
       "<keras.callbacks.History at 0x2711ef7c6d0>"
      ]
     },
     "execution_count": 37,
     "metadata": {},
     "output_type": "execute_result"
    }
   ],
   "source": [
    "model.fit_generator(x_train, steps_per_epoch=30, epochs=10, validation_data=x_test,validation_steps=50)"
   ]
  },
  {
   "cell_type": "markdown",
   "id": "77f6c4ad",
   "metadata": {},
   "source": [
    "Save Model"
   ]
  },
  {
   "cell_type": "code",
   "execution_count": 39,
   "id": "ffcb311b",
   "metadata": {},
   "outputs": [],
   "source": [
    "model.save('Model.h5')"
   ]
  },
  {
   "cell_type": "markdown",
   "id": "03e237b1",
   "metadata": {},
   "source": [
    "# TEST THE MODEL"
   ]
  },
  {
   "cell_type": "code",
   "execution_count": 40,
   "id": "aabe6cdd",
   "metadata": {},
   "outputs": [],
   "source": [
    "from tensorflow.keras.models import load_model\n",
    "from tensorflow.keras.preprocessing import image\n",
    "import numpy as np\n",
    "import cv2"
   ]
  },
  {
   "cell_type": "markdown",
   "id": "57d9382e",
   "metadata": {},
   "source": [
    "Load Model"
   ]
  },
  {
   "cell_type": "code",
   "execution_count": 41,
   "id": "28783081",
   "metadata": {},
   "outputs": [],
   "source": [
    "model = load_model('Model.h5')"
   ]
  },
  {
   "cell_type": "markdown",
   "id": "e91f15be",
   "metadata": {},
   "source": [
    "Load Image"
   ]
  },
  {
   "cell_type": "code",
   "execution_count": 59,
   "id": "c5a7cab7",
   "metadata": {},
   "outputs": [
    {
     "data": {
      "image/png": "[encoded data removed]",
      "text/plain": [
       "<PIL.Image.Image image mode=RGB size=100x100>"
      ]
     },
     "execution_count": 59,
     "metadata": {},
     "output_type": "execute_result"
    }
   ],
   "source": [
    "img = image.load_img('../../../data collection/conversation engine for deaf and dumb/Dataset/test_set/C/50.png',\n",
    "                     target_size = (100,100))\n",
    "img"
   ]
  },
  {
   "cell_type": "code",
   "execution_count": 53,
   "id": "b5783dd7",
   "metadata": {},
   "outputs": [],
   "source": [
    "from skimage.transform import resize\n",
    "def detect(frame):\n",
    "    img=image.img_to_array(frame)\n",
    "    img = resize(img,(64,64,1))\n",
    "    img = np.expand_dims(img,axis=0)\n",
    "    pred=np.argmax(model.predict(img))\n",
    "    op=['A','B','C','D','E','F','G','H','I']\n",
    "    print(\"THE PREDICTED LETTER IS \",op[pred])"
   ]
  },
  {
   "cell_type": "markdown",
   "id": "01506215",
   "metadata": {},
   "source": [
    "Detect Image Letter"
   ]
  },
  {
   "cell_type": "code",
   "execution_count": 77,
   "id": "a1dd6969",
   "metadata": {},
   "outputs": [
    {
     "data": {
      "image/png": "[encoded data removed]",
      "text/plain": [
       "<PIL.Image.Image image mode=RGB size=100x100>"
      ]
     },
     "execution_count": 77,
     "metadata": {},
     "output_type": "execute_result"
    }
   ],
   "source": [
    "imgA = image.load_img('../../../data collection/conversation engine for deaf and dumb/Dataset/test_set/A/50.png',\n",
    "                     target_size = (100,100))\n",
    "imgA"
   ]
  },
  {
   "cell_type": "code",
   "execution_count": 78,
   "id": "0e296421",
   "metadata": {},
   "outputs": [
    {
     "name": "stdout",
     "output_type": "stream",
     "text": [
      "1/1 [==============================] - 0s 28ms/step\n",
      "THE PREDICTED LETTER IS  A\n"
     ]
    }
   ],
   "source": [
    "imgA=image.load_img(\"../../../data collection/conversation engine for deaf and dumb/Dataset/test_set/A/50.png\")\n",
    "detect(imgA)"
   ]
  },
  {
   "cell_type": "code",
   "execution_count": 79,
   "id": "b5855d00",
   "metadata": {},
   "outputs": [
    {
     "data": {
      "image/png": "[encoded data removed]",
      "text/plain": [
       "<PIL.Image.Image image mode=RGB size=100x100>"
      ]
     },
     "execution_count": 79,
     "metadata": {},
     "output_type": "execute_result"
    }
   ],
   "source": [
    "imgB = image.load_img('../../../data collection/conversation engine for deaf and dumb/Dataset/test_set/B/50.png',\n",
    "                     target_size = (100,100))\n",
    "imgB"
   ]
  },
  {
   "cell_type": "code",
   "execution_count": 80,
   "id": "f31677d0",
   "metadata": {},
   "outputs": [
    {
     "name": "stdout",
     "output_type": "stream",
     "text": [
      "1/1 [==============================] - 0s 36ms/step\n",
      "THE PREDICTED LETTER IS  B\n"
     ]
    }
   ],
   "source": [
    "imgB=image.load_img(\"../../../data collection/conversation engine for deaf and dumb/Dataset/test_set/B/50.png\")\n",
    "detect(imgB)"
   ]
  },
  {
   "cell_type": "code",
   "execution_count": 81,
   "id": "81c2a1af",
   "metadata": {},
   "outputs": [
    {
     "data": {
      "image/png": "[encoded data removed]",
      "text/plain": [
       "<PIL.Image.Image image mode=RGB size=100x100>"
      ]
     },
     "execution_count": 81,
     "metadata": {},
     "output_type": "execute_result"
    }
   ],
   "source": [
    "imgC = image.load_img('../../../data collection/conversation engine for deaf and dumb/Dataset/test_set/C/50.png',\n",
    "                     target_size = (100,100))\n",
    "imgC"
   ]
  },
  {
   "cell_type": "code",
   "execution_count": 82,
   "id": "2f312567",
   "metadata": {},
   "outputs": [
    {
     "name": "stdout",
     "output_type": "stream",
     "text": [
      "1/1 [==============================] - 0s 47ms/step\n",
      "THE PREDICTED LETTER IS  C\n"
     ]
    }
   ],
   "source": [
    "imgC=image.load_img(\"../../../data collection/conversation engine for deaf and dumb/Dataset/test_set/C/50.png\")\n",
    "detect(imgC)"
   ]
  },
  {
   "cell_type": "code",
   "execution_count": 83,
   "id": "d529daba",
   "metadata": {},
   "outputs": [
    {
     "data": {
      "image/png": "[encoded data removed]",
      "text/plain": [
       "<PIL.Image.Image image mode=RGB size=100x100>"
      ]
     },
     "execution_count": 83,
     "metadata": {},
     "output_type": "execute_result"
    }
   ],
   "source": [
    "imgD = image.load_img('../../../data collection/conversation engine for deaf and dumb/Dataset/test_set/D/50.png',\n",
    "                     target_size = (100,100))\n",
    "imgD"
   ]
  },
  {
   "cell_type": "code",
   "execution_count": 84,
   "id": "c4079d50",
   "metadata": {},
   "outputs": [
    {
     "name": "stdout",
     "output_type": "stream",
     "text": [
      "1/1 [==============================] - 0s 32ms/step\n",
      "THE PREDICTED LETTER IS  D\n"
     ]
    }
   ],
   "source": [
    "imgD=image.load_img(\"../../../data collection/conversation engine for deaf and dumb/Dataset/test_set/D/50.png\")\n",
    "detect(imgD)"
   ]
  },
  {
   "cell_type": "code",
   "execution_count": 85,
   "id": "29f04b85",
   "metadata": {},
   "outputs": [
    {
     "data": {
      "image/png": "[encoded data removed]",
      "text/plain": [
       "<PIL.Image.Image image mode=RGB size=100x100>"
      ]
     },
     "execution_count": 85,
     "metadata": {},
     "output_type": "execute_result"
    }
   ],
   "source": [
    "imgE = image.load_img('../../../data collection/conversation engine for deaf and dumb/Dataset/test_set/E/50.png',\n",
    "                     target_size = (100,100))\n",
    "imgE"
   ]
  },
  {
   "cell_type": "code",
   "execution_count": 86,
   "id": "63e0f3f8",
   "metadata": {},
   "outputs": [
    {
     "name": "stdout",
     "output_type": "stream",
     "text": [
      "1/1 [==============================] - 0s 29ms/step\n",
      "THE PREDICTED LETTER IS  E\n"
     ]
    }
   ],
   "source": [
    "imgE=image.load_img(\"../../../data collection/conversation engine for deaf and dumb/Dataset/test_set/E/50.png\")\n",
    "detect(imgE)"
   ]
  },
  {
   "cell_type": "code",
   "execution_count": 87,
   "id": "3eee7927",
   "metadata": {},
   "outputs": [
    {
     "data": {
      "image/png": "[encoded data removed]",
      "text/plain": [
       "<PIL.Image.Image image mode=RGB size=100x100>"
      ]
     },
     "execution_count": 87,
     "metadata": {},
     "output_type": "execute_result"
    }
   ],
   "source": [
    "imgF = image.load_img('../../../data collection/conversation engine for deaf and dumb/Dataset/test_set/F/50.png',\n",
    "                     target_size = (100,100))\n",
    "imgF"
   ]
  },
  {
   "cell_type": "code",
   "execution_count": 88,
   "id": "f52aa532",
   "metadata": {},
   "outputs": [
    {
     "name": "stdout",
     "output_type": "stream",
     "text": [
      "1/1 [==============================] - 0s 33ms/step\n",
      "THE PREDICTED LETTER IS  F\n"
     ]
    }
   ],
   "source": [
    "imgF=image.load_img(\"../../../data collection/conversation engine for deaf and dumb/Dataset/test_set/F/50.png\")\n",
    "detect(imgF)"
   ]
  },
  {
   "cell_type": "code",
   "execution_count": 89,
   "id": "94368e33",
   "metadata": {},
   "outputs": [
    {
     "data": {
      "image/png": "[encoded data removed]",
      "text/plain": [
       "<PIL.Image.Image image mode=RGB size=100x100>"
      ]
     },
     "execution_count": 89,
     "metadata": {},
     "output_type": "execute_result"
    }
   ],
   "source": [
    "imgG= image.load_img('../../../data collection/conversation engine for deaf and dumb/Dataset/test_set/G/50.png',\n",
    "                     target_size = (100,100))\n",
    "imgG"
   ]
  },
  {
   "cell_type": "code",
   "execution_count": 90,
   "id": "cda3ed29",
   "metadata": {},
   "outputs": [
    {
     "name": "stdout",
     "output_type": "stream",
     "text": [
      "1/1 [==============================] - 0s 46ms/step\n",
      "THE PREDICTED LETTER IS  G\n"
     ]
    }
   ],
   "source": [
    "imgG=image.load_img(\"../../../data collection/conversation engine for deaf and dumb/Dataset/test_set/G/50.png\")\n",
    "detect(imgG)"
   ]
  },
  {
   "cell_type": "code",
   "execution_count": 91,
   "id": "3a8b2b30",
   "metadata": {},
   "outputs": [
    {
     "data": {
      "image/png": "[encoded data removed]",
      "text/plain": [
       "<PIL.Image.Image image mode=RGB size=100x100>"
      ]
     },
     "execution_count": 91,
     "metadata": {},
     "output_type": "execute_result"
    }
   ],
   "source": [
    "imgH = image.load_img('../../../data collection/conversation engine for deaf and dumb/Dataset/test_set/H/50.png',\n",
    "                     target_size = (100,100))\n",
    "imgH"
   ]
  },
  {
   "cell_type": "code",
   "execution_count": 94,
   "id": "fa599df4",
   "metadata": {},
   "outputs": [
    {
     "name": "stdout",
     "output_type": "stream",
     "text": [
      "1/1 [==============================] - 0s 35ms/step\n",
      "THE PREDICTED LETTER IS  I\n"
     ]
    }
   ],
   "source": [
    "imgH=image.load_img(\"../../../data collection/conversation engine for deaf and dumb/Dataset/test_set/H/50.png\")\n",
    "detect(imgH)"
   ]
  }
 ],
 "metadata": {
  "kernelspec": {
   "display_name": "Python 3 (ipykernel)",
   "language": "python",
   "name": "python3"
  },
  "language_info": {
   "codemirror_mode": {
    "name": "ipython",
    "version": 3
   },
   "file_extension": ".py",
   "mimetype": "text/x-python",
   "name": "python",
   "nbconvert_exporter": "python",
   "pygments_lexer": "ipython3",
   "version": "3.10.7"
  }
 },
 "nbformat": 4,
 "nbformat_minor": 5
}
